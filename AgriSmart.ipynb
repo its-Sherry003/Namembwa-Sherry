{
 "cells": [
  {
   "cell_type": "code",
   "execution_count": null,
   "id": "dd759bde",
   "metadata": {},
   "outputs": [],
   "source": [
    "import pandas as pd\n",
    "import numpy as ny\n",
    "import matplotlib.pyplot as plt\n",
    "import seaborn as sns\n",
    "from datetime import datetime\n",
    "\n",
    "df = pd.read_csv('climate_action_data.csv')\n",
    "df.info()"
   ]
  },
  {
   "cell_type": "code",
   "execution_count": null,
   "id": "6846129a",
   "metadata": {},
   "outputs": [],
   "source": [
    "print(df.shape)\n",
    "print(\"\\nColumn Names: \", df.columns.tolist())"
   ]
  },
  {
   "cell_type": "code",
   "execution_count": null,
   "id": "1d07235b",
   "metadata": {},
   "outputs": [],
   "source": [
    "df.describe"
   ]
  },
  {
   "cell_type": "code",
   "execution_count": null,
   "id": "f3d23b3c",
   "metadata": {},
   "outputs": [],
   "source": [
    "df.head(112)"
   ]
  },
  {
   "cell_type": "code",
   "execution_count": null,
   "id": "1f0b0c46",
   "metadata": {},
   "outputs": [],
   "source": [
    "df.isnull().sum()"
   ]
  },
  {
   "cell_type": "code",
   "execution_count": null,
   "id": "72601dc8",
   "metadata": {},
   "outputs": [],
   "source": [
    "print(df.dtypes)"
   ]
  },
  {
   "cell_type": "code",
   "execution_count": null,
   "id": "b77e7e74",
   "metadata": {},
   "outputs": [],
   "source": [
    "print(df[df['Date'].isnull()])\n"
   ]
  },
  {
   "cell_type": "code",
   "execution_count": null,
   "id": "e5819451",
   "metadata": {},
   "outputs": [],
   "source": [
    "#Data Cleaning\n",
    "df['Date'] = pd.to_datetime(df['Date'], errors = 'coerce')\n",
    "df['Date'] = df['Date'].fillna(pd.to_datetime(df['Date'].dropna().median()))\n",
    "\n",
    "df['Crop_Type'] = df['Crop_Type'].fillna(df['Crop_Type'].mode()[0])\n",
    "        \n",
    "numerical_columns = ['Soil_Moisture(%)','Soil_pH','Temperature(C)','Humidity(%)','Fertilizer_Recommended(kg/ha)','Irrigation_Recommended(mm)']\n",
    "for column in numerical_columns:\n",
    "    if column in df.columns:\n",
    "        df[column] = pd.to_numeric(df[column], errors = 'coerce')\n",
    "        df[column] = df[column].fillna(df[column].median())\n",
    "        \n",
    "df.drop_duplicates(inplace = True)\n",
    "\n",
    "print(\"\\n\", df.duplicated())\n",
    "print(\"\\n Shape of CSV File: \", df.shape)\n",
    "print(\"\\n Data Types: \\n\", df.dtypes)\n",
    "        \n",
    "df.isnull().sum()"
   ]
  },
  {
   "cell_type": "code",
   "execution_count": 34,
   "id": "a48f45c4",
   "metadata": {},
   "outputs": [],
   "source": [
    "df.to_csv('cleaned_precision_agriculture_data.csv')"
   ]
  },
  {
   "cell_type": "code",
   "execution_count": null,
   "id": "4fcf3362",
   "metadata": {},
   "outputs": [],
   "source": [
    "#Data Analysis\n",
    "numeric = df.select_dtypes(include='number')\n",
    "corr = numeric.corr()\n",
    "sns.heatmap(corr, annot=True, cmap='coolwarm', fmt = '.2f')\n",
    "plt.title('Correlation Heatmap of Numeric Columns')\n",
    "plt.show()"
   ]
  },
  {
   "cell_type": "code",
   "execution_count": null,
   "id": "e7e60852",
   "metadata": {},
   "outputs": [],
   "source": [
    "plt.figure(figsize=(15,10))\n",
    "\n",
    "plt.subplot(1,2,1)\n",
    "sns.histplot(df['Soil_Moisture(%)'], bins=30, kde=True)\n",
    "plt.title('Soil Moisture Distribution')\n",
    "\n",
    "plt.subplot(1,2,2)\n",
    "sns.histplot(df['Soil_pH'], bins=30, kde=True)\n",
    "plt.title('Soil PH Distribution')\n"
   ]
  },
  {
   "cell_type": "code",
   "execution_count": null,
   "id": "c621fd22",
   "metadata": {},
   "outputs": [],
   "source": [
    "plt.figure(figsize=(15,10))\n",
    "\n",
    "plt.subplot(1,2,1)\n",
    "sns.histplot(df['Temperature(C)'], bins=30, kde=True)\n",
    "plt.title('Temperature Distribution')\n",
    "\n",
    "plt.subplot(1,2,2)\n",
    "sns.histplot(df['Humidity(%)'], bins=30, kde=True)\n",
    "plt.title('Humidity Distribution')"
   ]
  },
  {
   "cell_type": "code",
   "execution_count": null,
   "id": "45d4121b",
   "metadata": {},
   "outputs": [],
   "source": [
    "plt.figure(figsize=(15,10))\n",
    "\n",
    "plt.subplot(1,2,1)\n",
    "sns.histplot(df['Fertilizer_Recommended(kg/ha)'], bins=30, kde=True)\n",
    "plt.title('Fertilizer Recommended Distribution')\n",
    "\n",
    "plt.subplot(1,2,2)\n",
    "sns.histplot(df['Irrigation_Recommended(mm)'], bins=30, kde=True)\n",
    "plt.title('Irrigation Recommended Distribution')"
   ]
  },
  {
   "cell_type": "code",
   "execution_count": null,
   "id": "36df6a4f",
   "metadata": {},
   "outputs": [],
   "source": [
    "#Crop with highest average soil moisture\n",
    "average_moisture = df.groupby('Crop_Type')['Soil_Moisture(%)'].mean()\n",
    "highest_crop = average_moisture.idxmax()\n",
    "highest_value = average_moisture.max()\n",
    "\n",
    "print(f\"Crop with highest average soil moisture: {highest_crop} {highest_value:.2f}\")"
   ]
  },
  {
   "cell_type": "code",
   "execution_count": null,
   "id": "1f286297",
   "metadata": {},
   "outputs": [],
   "source": [
    "crops_above_30 = df[df['Temperature(C)'] > 30]\n",
    "average_irrigation = crops_above_30.groupby('Crop_Type')['Irrigation_Recommended(mm)'].mean()\n",
    "\n",
    "print(\"Irrigation Adjustments: \")\n",
    "print(\"\\n\", average_irrigation)"
   ]
  },
  {
   "cell_type": "markdown",
   "id": "73dfa5d0",
   "metadata": {},
   "source": [
    "-The variable that most influences fertilizer recommendations is Soil PH since according to the Correlation HeatMap it has the weakest positive Correlation of +0.08 and the Other variables have near to zero correlation suggesting almost no linear relationship with fertilizer recommendations.\n",
    "\n",
    "-The crop type with the highest average soil moisture is Wheat\n",
    "\n",
    "Irrigation Adjustments: \n",
    "\n",
    "Beans       17.857692\n",
    "Lettuce     16.297297\n",
    "Maize       16.625455\n",
    "Tomatoes    18.919565\n",
    "Wheat       18.645946"
   ]
  }
 ],
 "metadata": {
  "kernelspec": {
   "display_name": "Python 3",
   "language": "python",
   "name": "python3"
  },
  "language_info": {
   "codemirror_mode": {
    "name": "ipython",
    "version": 3
   },
   "file_extension": ".py",
   "mimetype": "text/x-python",
   "name": "python",
   "nbconvert_exporter": "python",
   "pygments_lexer": "ipython3",
   "version": "3.13.3"
  }
 },
 "nbformat": 4,
 "nbformat_minor": 5
}
