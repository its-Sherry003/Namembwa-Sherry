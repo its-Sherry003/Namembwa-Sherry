{
 "cells": [
  {
   "cell_type": "code",
   "execution_count": null,
   "id": "036139c7",
   "metadata": {},
   "outputs": [],
   "source": [
    "# Exercise Plot for Maxpulse and Colories for Histrogram\n",
    "import pandas as pd\n",
    "import matplotlib.pyplot as plt\n",
    "import seaborn as sns\n",
    "\n",
    "csv_df = pd.read_csv('data.csv')\n",
    "\n",
    "plt.figure(figsize= (15,10))\n",
    "\n",
    "plt.subplot(2,2,1)\n",
    "sns.histplot(csv_df['Pulse'], bins = 30, kde=True)\n",
    "plt.title(\"Pulse distribution\")\n",
    "\n",
    "plt.subplot(2,2,2)\n",
    "sns.histplot(csv_df['Calories'], bins = 30, kde=True)\n",
    "plt.title(\"Calories distribution\")"
   ]
  },
  {
   "cell_type": "code",
   "execution_count": null,
   "id": "a5f34106",
   "metadata": {},
   "outputs": [],
   "source": [
    "#Plot for Maxpulse\n",
    "maxPulse = csv_df['Pulse'].max() \n",
    "\n",
    "plt.subplot(2, 2, 1)\n",
    "sns.histplot(csv_df['Pulse'], bins=30, kde=True)\n",
    "plt.axvline(maxPulse, color='red', linestyle='--', label=f'Max Pulse: {maxPulse}')\n",
    "plt.title('Pulse Distribution with Max Pulse Line')"
   ]
  }
 ],
 "metadata": {
  "kernelspec": {
   "display_name": "Python 3",
   "language": "python",
   "name": "python3"
  },
  "language_info": {
   "codemirror_mode": {
    "name": "ipython",
    "version": 3
   },
   "file_extension": ".py",
   "mimetype": "text/x-python",
   "name": "python",
   "nbconvert_exporter": "python",
   "pygments_lexer": "ipython3",
   "version": "3.13.3"
  }
 },
 "nbformat": 4,
 "nbformat_minor": 5
}
